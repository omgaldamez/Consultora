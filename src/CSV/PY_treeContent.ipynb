{
 "cells": [
  {
   "cell_type": "code",
   "execution_count": 6,
   "metadata": {},
   "outputs": [],
   "source": [
    "import xlrd\n",
    "# comentarios\n",
    "#path: direccion de archivo\n",
    "\n",
    "import os\n",
    "import pandas as pd\n",
    "import numpy as np\n",
    "import array as arr\n",
    "import altair as alt\n",
    "import json\n",
    "\n",
    "\n",
    "pd.set_option(\"display.max_columns\",None)\n"
   ]
  },
  {
   "cell_type": "markdown",
   "metadata": {},
   "source": [
    "**Export JSON to CSV and Excel:**"
   ]
  },
  {
   "cell_type": "code",
   "execution_count": 13,
   "metadata": {},
   "outputs": [],
   "source": [
    "import csv\n",
    "import json\n",
    "\n",
    "def flatten_data(node, parent_name=None, level=0):\n",
    "    flattened = {\n",
    "        \"parent\": parent_name,\n",
    "        \"name\": node[\"name\"],\n",
    "        \"value\": node.get(\"value\", 0),\n",
    "        \"level\": level\n",
    "    }\n",
    "    \n",
    "    children = node.get(\"children\")\n",
    "    if children:\n",
    "        flattened_children = []\n",
    "        for child in children:\n",
    "            flattened_children.extend(flatten_data(child, parent_name=node[\"name\"], level=level + 1))\n",
    "        return [flattened] + flattened_children\n",
    "    else:\n",
    "        return [flattened]\n",
    "\n",
    "# Load the provided JSON data\n",
    "with open('reconstructed_data.json', 'r') as json_file:\n",
    "    data = json.load(json_file)\n",
    "\n",
    "# Flatten the JSON data for CSV writing\n",
    "flattened_data = flatten_data(data)\n",
    "\n",
    "# Write flattened data to a CSV file\n",
    "csv_columns = [\"parent\", \"name\", \"value\", \"level\"]\n",
    "csv_file = \"flattened_data.csv\"\n",
    "\n",
    "with open(csv_file, 'w', newline='') as csvf:\n",
    "    writer = csv.DictWriter(csvf, fieldnames=csv_columns)\n",
    "    writer.writeheader()\n",
    "    writer.writerows(flattened_data)\n"
   ]
  },
  {
   "cell_type": "markdown",
   "metadata": {},
   "source": [
    "The provided script performs the following steps to flatten a hierarchical JSON structure, process it, and save the flattened data to a CSV file:\n",
    "\n",
    "Import necessary modules:\n",
    "\n",
    "The csv module for working with CSV files.\n",
    "The json module for working with JSON data.\n",
    "Define the flatten_data function:\n",
    "\n",
    "The function takes three parameters: node, parent_name, and level.\n",
    "node represents a node in the hierarchical JSON data.\n",
    "parent_name represents the name of the parent node. It is None for the root node.\n",
    "level represents the depth level of the node in the hierarchy.\n",
    "The function creates a flattened dictionary that holds the flattened data for the current node, including the parent's name, the node's name, its value (or 0 if absent), and the depth level.\n",
    "It then checks if the node has children. If it does, it recursively processes each child and appends their flattened data to the list of flattened_children.\n",
    "Finally, the function returns a list that contains the flattened data for the current node and all its children.\n",
    "Load the provided JSON data:\n",
    "\n",
    "The script reads the JSON data from the file named treedata.json.\n",
    "Flatten the JSON data:\n",
    "\n",
    "The flatten_data function is called on the root node of the JSON data, and the result is stored in the flattened_data variable.\n",
    "Write flattened data to a CSV file:\n",
    "\n",
    "The script defines the columns for the CSV file: \"parent\", \"name\", \"value\", and \"level\".\n",
    "It specifies the name of the CSV file as \"flattened_data.csv\".\n",
    "It opens the CSV file for writing and creates a DictWriter object with the specified columns.\n",
    "The CSV header is written using the writeheader() method.\n",
    "The flattened data, stored in the flattened_data list, is written to the CSV file using the writerows() method.\n",
    "Overall, the script processes a hierarchical JSON structure, flattens it by extracting relevant information, and writes the flattened data to a CSV file named \"flattened_data.csv\". The flattened data includes information about each node's parent, name, value, and level within the hierarchy."
   ]
  },
  {
   "cell_type": "markdown",
   "metadata": {},
   "source": [
    "----------------------------------------------------------------------------"
   ]
  },
  {
   "cell_type": "markdown",
   "metadata": {},
   "source": [
    "**Read original data CSV and Convert to JSON:**"
   ]
  },
  {
   "cell_type": "code",
   "execution_count": 9,
   "metadata": {},
   "outputs": [],
   "source": [
    "import csv\n",
    "\n",
    "def reconstruct_tree(csv_rows, parent_name=None, level=0):\n",
    "    children = []\n",
    "    for row in csv_rows:\n",
    "        if row[\"parent\"] == parent_name and int(row[\"level\"]) == level:\n",
    "            child = {\n",
    "                \"name\": row[\"name\"],\n",
    "                \"value\": int(row[\"value\"]),\n",
    "                \"children\": reconstruct_tree(csv_rows, parent_name=row[\"name\"], level=level + 1)\n",
    "            }\n",
    "            children.append(child)\n",
    "    return children\n",
    "\n",
    "csv_data = []\n",
    "with open('flattened_data.csv', 'r') as csvf:\n",
    "    reader = csv.DictReader(csvf)\n",
    "    for row in reader:\n",
    "        csv_data.append(row)\n",
    "\n",
    "# Reconstruct the JSON structure\n",
    "reconstructed_json = {\n",
    "    \"name\": \"flare\",\n",
    "    \"children\": reconstruct_tree(csv_data, parent_name=\"flare\", level=1)\n",
    "}\n",
    "\n",
    "# Save the reconstructed JSON to a file\n",
    "with open('reconstructed_data.json', 'w') as jsonf:\n",
    "    json.dump(reconstructed_json, jsonf, indent=2)\n"
   ]
  },
  {
   "cell_type": "markdown",
   "metadata": {},
   "source": [
    "This Python script performs the following tasks to reconstruct a hierarchical JSON structure from a flattened CSV representation:\n",
    "\n",
    "Importing Required Modules: The script imports the csv module, which allows working with CSV files.\n",
    "\n",
    "Reconstructing the Tree Structure Function (reconstruct_tree) Definition:\n",
    "\n",
    "The function takes parameters csv_rows, parent_name, and level.\n",
    "It initializes an empty list called children to store the children of the current node being processed.\n",
    "It iterates through each row in csv_rows (each row representing a flattened node).\n",
    "If the parent value in the row matches the parent_name argument and the level value matches the level argument, it constructs a child node:\n",
    "The name and value fields are extracted from the row.\n",
    "The children field is populated by recursively calling the reconstruct_tree function with updated parent_name and level values to find the grandchildren of the current node.\n",
    "The child node is added to the children list.\n",
    "The function returns the children list.\n",
    "Reading Flattened CSV Data:\n",
    "\n",
    "An empty list called csv_data is created to store the rows from the CSV file.\n",
    "The script opens the flattened_data.csv file for reading using csv.DictReader, which reads each row as a dictionary where keys are column names and values are the corresponding cell values.\n",
    "Each row is appended to the csv_data list.\n",
    "Reconstructing JSON Structure:\n",
    "\n",
    "The root node of the JSON structure is manually created with the name \"flare\" and an empty children list.\n",
    "The reconstruct_tree function is called with csv_data, parent_name=\"flare\", and level=1 to reconstruct the entire hierarchical structure starting from the root node.\n",
    "The reconstructed structure is stored in the reconstructed_json dictionary.\n",
    "Saving Reconstructed JSON to File:\n",
    "\n",
    "The reconstructed_json dictionary is saved to a JSON file named reconstructed_data.json.\n",
    "The json.dump function is used with the indent parameter set to 2 to make the JSON file human-readable.\n",
    "In summary, this script takes flattened data from a CSV file, which represents a hierarchical tree structure, and reconstructs the original hierarchical JSON structure from it. The reconstructed JSON structure is then saved to a file."
   ]
  },
  {
   "cell_type": "markdown",
   "metadata": {},
   "source": [
    "----------------------------------------------------------------------------------"
   ]
  },
  {
   "cell_type": "markdown",
   "metadata": {},
   "source": [
    "**Read modified data CSV and Convert to JSON:**"
   ]
  },
  {
   "cell_type": "code",
   "execution_count": 36,
   "metadata": {},
   "outputs": [],
   "source": [
    "import csv\n",
    "\n",
    "def reconstruct_tree(csv_rows, parent_name=None, level=0):\n",
    "    children = []\n",
    "    for row in csv_rows:\n",
    "        if row[\"parent\"] == parent_name and int(row[\"level\"]) == level:\n",
    "            child = {\n",
    "                \"name\": row[\"name\"],\n",
    "                \"value\": int(row[\"value\"]),\n",
    "                \"qty\": int(row[\"qty\"]),\n",
    "                \"invoice\": int(row[\"invoice\"]),\n",
    "                \"level\": int(row[\"level\"]),\n",
    "                \"connectsTo1\": row[\"connectsTo1\"],\n",
    "                \"connectsTo2\": row[\"connectsTo2\"],\n",
    "                \"connectsTo3\": row[\"connectsTo3\"],\n",
    "                \"connectsTo4\": row[\"connectsTo4\"],\n",
    "                \"connectsTo5\": row[\"connectsTo5\"],\n",
    "                \"img\": row[\"img\"],\n",
    "                \"children\": reconstruct_tree(csv_rows, parent_name=row[\"name\"], level=level + 1)\n",
    "            }\n",
    "            children.append(child)\n",
    "    return children\n",
    "\n",
    "csv_data = []\n",
    "with open('flattened_dataMOD.csv', 'r') as csvf:\n",
    "    reader = csv.DictReader(csvf)\n",
    "    for row in reader:\n",
    "        csv_data.append(row)\n",
    "\n",
    "# Reconstruct the JSON structure\n",
    "reconstructed_json = {\n",
    "    \"name\": \"Nouvel\",\n",
    "    \"children\": reconstruct_tree(csv_data, parent_name=\"Nouvel\", level=1)\n",
    "}\n",
    "\n",
    "# Specify the folder path for saving the reconstructed JSON file\n",
    "output_folder = \"../routes/Nouvel/\"  # Replace with your desired folder name\n",
    "\n",
    "# Create the folder if it doesn't exist\n",
    "if not os.path.exists(output_folder):\n",
    "    os.makedirs(output_folder)\n",
    "\n",
    "# Save the reconstructed JSON to a file in the specified folder\n",
    "output_file = os.path.join(output_folder, 'reconstructed_dataMOD.json')\n",
    "with open(output_file, 'w') as jsonf:\n",
    "    json.dump(reconstructed_json, jsonf, indent=2)"
   ]
  },
  {
   "cell_type": "code",
   "execution_count": null,
   "metadata": {},
   "outputs": [],
   "source": []
  }
 ],
 "metadata": {
  "kernelspec": {
   "display_name": "base",
   "language": "python",
   "name": "python3"
  },
  "language_info": {
   "codemirror_mode": {
    "name": "ipython",
    "version": 3
   },
   "file_extension": ".py",
   "mimetype": "text/x-python",
   "name": "python",
   "nbconvert_exporter": "python",
   "pygments_lexer": "ipython3",
   "version": "3.9.12"
  },
  "orig_nbformat": 4
 },
 "nbformat": 4,
 "nbformat_minor": 2
}
